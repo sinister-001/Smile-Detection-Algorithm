{
 "cells": [
  {
   "cell_type": "code",
   "execution_count": 2,
   "id": "72e43982",
   "metadata": {},
   "outputs": [],
   "source": [
    "import numpy as np\n",
    "import pandas as pd\n",
    "import cv2 as cv\n",
    "import matplotlib.pyplot as plt"
   ]
  },
  {
   "cell_type": "markdown",
   "id": "3e9d7abb",
   "metadata": {},
   "source": [
    "Detects objects of different sizes in the input image. The detected objects are returned as a list of rectangles.\n",
    "\n",
    "Parameters\n",
    "*image*\n",
    "Matrix of the type CV_8U containing an image where objects are detected.\n",
    "*objects*\n",
    "Vector of rectangles where each rectangle contains the detected object, the rectangles may be partially outside the original image.\n",
    "*scaleFactor*\n",
    "Parameter specifying how much the image size is reduced at each image scale.\n",
    "*minNeighbors*\n",
    "Parameter specifying how many neighbors each candidate rectangle should have to retain it.\n",
    "*flags*\n",
    "Parameter with the same meaning for an old cascade as in the function cvHaarDetectObjects. It is not used for a new cascade.\n",
    "*minSize*\n",
    "Minimum possible object size. Objects smaller than that are ignored.\n",
    "*maxSize*\n",
    "Maximum possible object size. Objects larger than that are ignored. \n",
    "If *maxSize == minSize* model is evaluated on single scale."
   ]
  },
  {
   "cell_type": "code",
   "execution_count": null,
   "id": "438f1566",
   "metadata": {},
   "outputs": [],
   "source": [
    "cascade_face=cv.CascadeClassifier('haarcascade_frontalface_default.xml')\n",
    "cascade_smile=cv.CascadeClassifier('haarcascade_smile.xml')\n",
    "cap = cv.VideoCapture(0)\n",
    "while True:\n",
    "    ret, img = cap.read()\n",
    "    g = cv.cvtColor(img, cv.COLOR_BGR2GRAY)\n",
    "    f = cascade_face.detectMultiScale(g, scaleFactor=1.3, minNeighbors=5, minSize=(30,30))\n",
    "    \n",
    "    for (x, y, w, h) in f:\n",
    "        cv.rectangle(img, (x, y), (x+w, y+h), (255, 0, 0), 2)\n",
    "        gray_r = g[y:y+h, x:x+w]\n",
    "        s=cascade_smile.detectMultiScale(gray_r, scaleFactor=1.5, minNeighbors=15, minSize=(25,25))\n",
    "        \n",
    "        for i in s:\n",
    "            if len(s)>1:\n",
    "                cv.putText(img,\"SMILING\",(x,y-30),cv.FONT_HERSHEY_SCRIPT_SIMPLEX,2,\n",
    "                          (0, 255, 0),3,cv.LINE_AA)\n",
    "                \n",
    "    cv.imshow('video',img)\n",
    "    k=cv.waitKey(30) & 0xff\n",
    "    if k == 27:\n",
    "        break\n",
    "        \n",
    "cap.release()\n",
    "cv.destroyAllWindows()"
   ]
  },
  {
   "cell_type": "code",
   "execution_count": null,
   "id": "f122d00f",
   "metadata": {},
   "outputs": [],
   "source": []
  },
  {
   "cell_type": "code",
   "execution_count": null,
   "id": "8027b86a",
   "metadata": {},
   "outputs": [],
   "source": []
  },
  {
   "cell_type": "code",
   "execution_count": null,
   "id": "69e4f72e",
   "metadata": {},
   "outputs": [],
   "source": []
  },
  {
   "cell_type": "code",
   "execution_count": null,
   "id": "4311973a",
   "metadata": {},
   "outputs": [],
   "source": []
  },
  {
   "cell_type": "code",
   "execution_count": null,
   "id": "e956c2dc",
   "metadata": {},
   "outputs": [],
   "source": []
  }
 ],
 "metadata": {
  "kernelspec": {
   "display_name": "Python 3 (ipykernel)",
   "language": "python",
   "name": "python3"
  },
  "language_info": {
   "codemirror_mode": {
    "name": "ipython",
    "version": 3
   },
   "file_extension": ".py",
   "mimetype": "text/x-python",
   "name": "python",
   "nbconvert_exporter": "python",
   "pygments_lexer": "ipython3",
   "version": "3.10.4"
  }
 },
 "nbformat": 4,
 "nbformat_minor": 5
}
